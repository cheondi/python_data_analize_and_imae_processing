{
 "cells": [
  {
   "cell_type": "code",
   "execution_count": 1,
   "metadata": {},
   "outputs": [],
   "source": [
    "import numpy as np \n",
    "array =np.arange(0,10)\n",
    "np.save('saved.npy',array)"
   ]
  },
  {
   "cell_type": "code",
   "execution_count": 5,
   "metadata": {},
   "outputs": [
    {
     "name": "stdout",
     "output_type": "stream",
     "text": [
      "[0 1 2 3 4 5 6 7 8 9]\n",
      "[0 1 2 3 4 5 6 7 8 9]\n",
      "[10 11 12 13 14 15 16 17 18 19]\n"
     ]
    }
   ],
   "source": [
    "result =np.load('saved.npy')\n",
    "print(result)\n",
    "array1 =np.arange(0,10)\n",
    "array2=np.arange(10,20)\n",
    "np.savez('saved.npz',array1=array1,array2=array2)\n",
    "\n",
    "data =np.load('saved.npz')\n",
    "result1 =data['array1']\n",
    "result2=data['array2']\n",
    "print(result1)\n",
    "print(result2)\n",
    "\n"
   ]
  },
  {
   "cell_type": "code",
   "execution_count": 6,
   "metadata": {},
   "outputs": [
    {
     "name": "stdout",
     "output_type": "stream",
     "text": [
      "[10  9  5  3  1]\n"
     ]
    }
   ],
   "source": [
    "import numpy as np\n",
    "array=np.array([5,9,10,3,1])\n",
    "array.sort()\n",
    "print(array[::-1])\n"
   ]
  },
  {
   "cell_type": "code",
   "execution_count": 8,
   "metadata": {},
   "outputs": [
    {
     "name": "stdout",
     "output_type": "stream",
     "text": [
      "[[ 5  9 10  3  1]\n",
      " [ 8  3  4  2  5]]\n",
      "[[ 1  3  5  9 10]\n",
      " [ 2  3  4  5  8]]\n"
     ]
    }
   ],
   "source": [
    "import numpy as np\n",
    "array=np.array([[5,9,10,3,1],[8,3,4,2,5]])\n",
    "print(array)\n",
    "array.sort(axis=1)\n",
    "print(array)"
   ]
  },
  {
   "cell_type": "code",
   "execution_count": 9,
   "metadata": {},
   "outputs": [
    {
     "name": "stdout",
     "output_type": "stream",
     "text": [
      "[ 0.   2.5  5.   7.5 10. ]\n"
     ]
    }
   ],
   "source": [
    "import numpy as np\n",
    "array =np.linspace(0,10,5)\n",
    "print(array)"
   ]
  },
  {
   "cell_type": "code",
   "execution_count": 16,
   "metadata": {},
   "outputs": [
    {
     "name": "stdout",
     "output_type": "stream",
     "text": [
      "[[6 7 3]\n",
      " [5 3 0]]\n",
      "[0 1 2 3 4 5 6 7 8 9]\n",
      "[99  1  2  3  4  5  6  7  8  9]\n"
     ]
    }
   ],
   "source": [
    "import numpy as np\n",
    "print(np.random.randint(0,10,(2,3)))\n",
    "array1=np.arange(0,10)\n",
    "array2=np.copy(array1)\n",
    "array2[0]=99\n",
    "print(array1)\n",
    "print(array2)\n"
   ]
  },
  {
   "cell_type": "code",
   "execution_count": null,
   "metadata": {},
   "outputs": [],
   "source": []
  },
  {
   "cell_type": "code",
   "execution_count": null,
   "metadata": {},
   "outputs": [],
   "source": []
  },
  {
   "cell_type": "code",
   "execution_count": null,
   "metadata": {},
   "outputs": [],
   "source": []
  }
 ],
 "metadata": {
  "kernelspec": {
   "display_name": "Python 3",
   "language": "python",
   "name": "python3"
  },
  "language_info": {
   "codemirror_mode": {
    "name": "ipython",
    "version": 3
   },
   "file_extension": ".py",
   "mimetype": "text/x-python",
   "name": "python",
   "nbconvert_exporter": "python",
   "pygments_lexer": "ipython3",
   "version": "3.7.4"
  }
 },
 "nbformat": 4,
 "nbformat_minor": 2
}
