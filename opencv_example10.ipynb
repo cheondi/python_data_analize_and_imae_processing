{
 "cells": [
  {
   "cell_type": "code",
   "execution_count": 5,
   "metadata": {},
   "outputs": [],
   "source": [
    "from IPython.core.interactiveshell import InteractiveShell\n",
    "InteractiveShell.ast_node_interactivity = \"all\""
   ]
  },
  {
   "cell_type": "code",
   "execution_count": 6,
   "metadata": {
    "scrolled": true
   },
   "outputs": [
    {
     "data": {
      "text/plain": [
       "<matplotlib.collections.PathCollection at 0x7f6dfee3e110>"
      ]
     },
     "execution_count": 6,
     "metadata": {},
     "output_type": "execute_result"
    },
    {
     "data": {
      "text/plain": [
       "<matplotlib.collections.PathCollection at 0x7f6dffbc8bd0>"
      ]
     },
     "execution_count": 6,
     "metadata": {},
     "output_type": "execute_result"
    },
    {
     "data": {
      "text/plain": [
       "<matplotlib.collections.PathCollection at 0x7f6dfee74750>"
      ]
     },
     "execution_count": 6,
     "metadata": {},
     "output_type": "execute_result"
    },
    {
     "data": {
      "text/plain": [
       "True"
      ]
     },
     "execution_count": 6,
     "metadata": {},
     "output_type": "execute_result"
    },
    {
     "name": "stdout",
     "output_type": "stream",
     "text": [
      "result :  [[1.]]\n",
      "neighbours : [[1. 1. 1.]]\n",
      "distance:  [[ 32. 125. 397.]]\n"
     ]
    },
    {
     "data": {
      "image/png": "[encoded data removed]",
      "text/plain": [
       "<Figure size 432x288 with 1 Axes>"
      ]
     },
     "metadata": {
      "needs_background": "light"
     },
     "output_type": "display_data"
    }
   ],
   "source": [
    "\n",
    "import cv2\n",
    "import numpy as np\n",
    "from matplotlib import pyplot as plt\n",
    "\n",
    "# 각 데이터의 위치: 25 X 2 크기에 각각 0 ~ 100\n",
    "trainData = np.random.randint(0, 100, (25, 2)).astype(np.float32)\n",
    "# 각 데이터는 0 or 1\n",
    "response = np.random.randint(0, 2, (25, 1)).astype(np.float32)\n",
    "\n",
    "# 값이 0인 데이터를 각각 (x, y) 위치에 빨간색으로 칠합니다.\n",
    "red = trainData[response.ravel() == 0]\n",
    "plt.scatter(red[:, 0], red[:, 1], 80, 'r', '^')\n",
    "# 값이 1인 데이터를 각각 (x, y) 위치에 파란색으로 칠합니다.\n",
    "blue = trainData[response.ravel() == 1]\n",
    "plt.scatter(blue[:, 0], blue[:, 1], 80, 'b', 's')\n",
    "\n",
    "# (0 ~ 100, 0 ~ 100) 위치의 데이터를 하나 생성해 칠합니다.\n",
    "newcomer = np.random.randint(0, 100, (1, 2)).astype(np.float32)\n",
    "plt.scatter(newcomer[:, 0], newcomer[:, 1], 80, 'g', 'o')\n",
    "\n",
    "knn = cv2.ml.KNearest_create()\n",
    "knn.train(trainData, cv2.ml.ROW_SAMPLE, response)\n",
    "ret, results, neighbours, dist = knn.findNearest(newcomer, 3)\n",
    "\n",
    "# 가까운 3개를 찾고, 거리를 고려하여 자신을 정합니다.\n",
    "print(\"result : \", results)\n",
    "print(\"neighbours :\", neighbours)\n",
    "print(\"distance: \", dist)\n",
    "\n",
    "plt.show()"
   ]
  },
  {
   "cell_type": "code",
   "execution_count": null,
   "metadata": {},
   "outputs": [],
   "source": []
  }
 ],
 "metadata": {
  "kernelspec": {
   "display_name": "Python 3",
   "language": "python",
   "name": "python3"
  },
  "language_info": {
   "codemirror_mode": {
    "name": "ipython",
    "version": 3
   },
   "file_extension": ".py",
   "mimetype": "text/x-python",
   "name": "python",
   "nbconvert_exporter": "python",
   "pygments_lexer": "ipython3",
   "version": "3.7.4"
  }
 },
 "nbformat": 4,
 "nbformat_minor": 2
}
