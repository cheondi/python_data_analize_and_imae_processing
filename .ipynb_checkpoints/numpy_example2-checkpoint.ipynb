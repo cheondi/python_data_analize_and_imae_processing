{
 "cells": [
  {
   "cell_type": "code",
   "execution_count": 3,
   "metadata": {},
   "outputs": [
    {
     "name": "stdout",
     "output_type": "stream",
     "text": [
      "[[6 9]\n",
      " [4 5]]\n",
      "[[ 8 11]\n",
      " [ 6  7]]\n"
     ]
    }
   ],
   "source": [
    "import numpy as np\n",
    "#배열 덧셈\n",
    "array1 =np.random.randint(1,10,size=4).reshape(2,2)\n",
    "array2 =array1+2\n",
    "print(array1)\n",
    "print(array2)"
   ]
  },
  {
   "cell_type": "code",
   "execution_count": 5,
   "metadata": {},
   "outputs": [
    {
     "name": "stdout",
     "output_type": "stream",
     "text": [
      "[[0 1]\n",
      " [2 3]]\n",
      "[0 1]\n",
      "[[0 2]\n",
      " [2 4]]\n"
     ]
    }
   ],
   "source": [
    "import numpy as np \n",
    "array1 =np.arange(4).reshape(2,2)\n",
    "array2=np.arange(2)\n",
    "array3=array1+array2\n",
    "print(array1)\n",
    "print(array2)\n",
    "print(array3)"
   ]
  },
  {
   "cell_type": "code",
   "execution_count": 7,
   "metadata": {},
   "outputs": [
    {
     "name": "stdout",
     "output_type": "stream",
     "text": [
      "[[0 1 2 3]\n",
      " [4 5 6 7]]\n",
      "[[0 1 2 3]\n",
      " [4 5 6 7]]\n",
      "[[0 1 2 3]\n",
      " [4 5 6 7]\n",
      " [0 1 2 3]\n",
      " [4 5 6 7]]\n",
      "[[0]\n",
      " [1]\n",
      " [2]\n",
      " [3]]\n",
      "[[ 0  1  2  3]\n",
      " [ 5  6  7  8]\n",
      " [ 2  3  4  5]\n",
      " [ 7  8  9 10]]\n"
     ]
    }
   ],
   "source": [
    "import numpy as np\n",
    "#브로드캐스팅\n",
    "array1=np.arange(0,8).reshape(2,4)\n",
    "array2=np.arange(0,8).reshape(2,4)\n",
    "array3=np.concatenate([array1,array2],axis=0)\n",
    "array4=np.arange(0,4).reshape(4,1)\n",
    "\n",
    "print(array1)\n",
    "print(array2)\n",
    "print(array3)\n",
    "print(array4)\n",
    "print(array3+array4)"
   ]
  },
  {
   "cell_type": "code",
   "execution_count": 12,
   "metadata": {},
   "outputs": [
    {
     "name": "stdout",
     "output_type": "stream",
     "text": [
      "[[ 0  1  2  3]\n",
      " [ 4  5  6  7]\n",
      " [ 8  9 10 11]\n",
      " [12 13 14 15]]\n",
      "[[ True  True  True  True]\n",
      " [ True  True  True  True]\n",
      " [ True  True False False]\n",
      " [False False False False]]\n",
      "[[100 100 100 100]\n",
      " [100 100 100 100]\n",
      " [100 100  10  11]\n",
      " [ 12  13  14  15]]\n"
     ]
    }
   ],
   "source": [
    "import numpy as np\n",
    "#마스킹\n",
    "array1=np.arange(16).reshape(4,4)\n",
    "print(array1)\n",
    "array2=array1<10\n",
    "print(array2)\n",
    "array1[array2]=100\n",
    "print(array1)"
   ]
  },
  {
   "cell_type": "code",
   "execution_count": null,
   "metadata": {},
   "outputs": [],
   "source": [
    "import numpy as np \n"
   ]
  }
 ],
 "metadata": {
  "kernelspec": {
   "display_name": "Python 3",
   "language": "python",
   "name": "python3"
  },
  "language_info": {
   "codemirror_mode": {
    "name": "ipython",
    "version": 3
   },
   "file_extension": ".py",
   "mimetype": "text/x-python",
   "name": "python",
   "nbconvert_exporter": "python",
   "pygments_lexer": "ipython3",
   "version": "3.7.4"
  }
 },
 "nbformat": 4,
 "nbformat_minor": 2
}
