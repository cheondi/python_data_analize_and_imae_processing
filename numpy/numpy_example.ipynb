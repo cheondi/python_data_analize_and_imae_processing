{
 "cells": [
  {
   "cell_type": "code",
   "execution_count": 14,
   "metadata": {},
   "outputs": [],
   "source": [
    "from IPython.core.interactiveshell import InteractiveShell\n",
    "InteractiveShell.ast_node_interactivity = \"all\""
   ]
  },
  {
   "cell_type": "code",
   "execution_count": 15,
   "metadata": {},
   "outputs": [
    {
     "name": "stdout",
     "output_type": "stream",
     "text": [
      "3\n",
      "int64\n",
      "3\n"
     ]
    }
   ],
   "source": [
    "import numpy as np\n",
    "list_data = [1,2,3]\n",
    "array=np.array(list_data)\n",
    "print(array.size)\n",
    "print(array.dtype)\n",
    "print(array[2])"
   ]
  },
  {
   "cell_type": "code",
   "execution_count": 22,
   "metadata": {},
   "outputs": [
    {
     "name": "stdout",
     "output_type": "stream",
     "text": [
      "[0 1 2 3]\n",
      "[[0. 0. 0. 0.]\n",
      " [0. 0. 0. 0.]\n",
      " [0. 0. 0. 0.]\n",
      " [0. 0. 0. 0.]]\n",
      "[[1 1 1]\n",
      " [1 1 1]\n",
      " [1 1 1]]\n",
      "[[8 9 1]\n",
      " [4 5 6]\n",
      " [1 7 2]]\n",
      "[[ 0.4580125   1.21689438 -1.0686097 ]\n",
      " [-0.12169585 -0.34788331  0.27167563]\n",
      " [-0.39377637 -0.76062375 -0.3661553 ]]\n"
     ]
    }
   ],
   "source": [
    "import numpy as np\n",
    "#0부터 3까지의 배열 만들기\n",
    "array1=np.arange(4)\n",
    "print(array1)\n",
    "array2=np.zeros((4,4),dtype=float)\n",
    "print(array2)\n",
    "array3=np.ones((3,3),dtype=int)\n",
    "print(array3)\n",
    "array4=np.random.randint(0,10,(3,3))\n",
    "print(array4)\n",
    "#평균이 0이고, 표준편차가 1인 표준 정규를 띄는 배열\n",
    "array5= np.random.normal(0,1,(3,3))\n",
    "print(array5)"
   ]
  },
  {
   "cell_type": "code",
   "execution_count": 23,
   "metadata": {},
   "outputs": [
    {
     "name": "stdout",
     "output_type": "stream",
     "text": [
      "[1 2 3 4 5 6]\n",
      "6\n"
     ]
    }
   ],
   "source": [
    "import numpy as np\n",
    "#배열 연결하기\n",
    "array1=np.array([1,2,3])\n",
    "array2=np.array([4,5,6])\n",
    "array3 = np.concatenate([array1, array2])\n",
    "print(array3)\n",
    "print(array3.size)\n",
    "\n"
   ]
  },
  {
   "cell_type": "code",
   "execution_count": 24,
   "metadata": {},
   "outputs": [
    {
     "name": "stdout",
     "output_type": "stream",
     "text": [
      "[[1 2]\n",
      " [3 4]]\n"
     ]
    }
   ],
   "source": [
    "import numpy as np\n",
    "#배열 모양바꾸기\n",
    "array1 = np.array([1,2,3,4])\n",
    "array2 =array1.reshape((2,2))\n",
    "\n",
    "print(array2)"
   ]
  },
  {
   "cell_type": "code",
   "execution_count": 29,
   "metadata": {},
   "outputs": [
    {
     "name": "stdout",
     "output_type": "stream",
     "text": [
      "[[0 1 2 3]]\n",
      "[[0 1 2 3]\n",
      " [4 5 6 7]]\n",
      "[[0 1 2 3]\n",
      " [0 1 2 3]\n",
      " [4 5 6 7]]\n"
     ]
    }
   ],
   "source": [
    "import numpy as np\n",
    "#배열 위로 연결하기\n",
    "array1 =np.arange(4).reshape(1,4)\n",
    "array2=np.arange(8).reshape(2,4)\n",
    "print(array1)\n",
    "print(array2)\n",
    "array3 = np.concatenate([array1,array2],axis=0)\n",
    "print(array3)"
   ]
  },
  {
   "cell_type": "code",
   "execution_count": 34,
   "metadata": {},
   "outputs": [
    {
     "name": "stdout",
     "output_type": "stream",
     "text": [
      "(2, 2)\n",
      "(2, 2)\n",
      "[[0 1 2 3]\n",
      " [4 5 6 7]]\n",
      "[[0 1]\n",
      " [4 5]]\n",
      "[[2 3]\n",
      " [6 7]]\n"
     ]
    }
   ],
   "source": [
    "import numpy as np \n",
    "#배열 가르기\n",
    "array =np.arange(8).reshape(2,4)\n",
    "left,right =np.split(array,[2],axis=1)\n",
    "print(left.shape)\n",
    "print(right.shape)\n",
    "print(array)\n",
    "print(left)\n",
    "print(right)"
   ]
  },
  {
   "cell_type": "code",
   "execution_count": null,
   "metadata": {},
   "outputs": [],
   "source": []
  }
 ],
 "metadata": {
  "kernelspec": {
   "display_name": "Python 3",
   "language": "python",
   "name": "python3"
  },
  "language_info": {
   "codemirror_mode": {
    "name": "ipython",
    "version": 3
   },
   "file_extension": ".py",
   "mimetype": "text/x-python",
   "name": "python",
   "nbconvert_exporter": "python",
   "pygments_lexer": "ipython3",
   "version": "3.7.4"
  }
 },
 "nbformat": 4,
 "nbformat_minor": 2
}
